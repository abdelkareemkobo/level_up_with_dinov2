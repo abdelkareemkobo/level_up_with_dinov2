{
  "cells": [
    {
      "cell_type": "code",
      "execution_count": 28,
      "metadata": {
        "colab": {
          "base_uri": "https://localhost:8080/"
        },
        "id": "DQKeBjJTLHkd",
        "outputId": "bd006da8-9f74-46c8-a522-413bb97a14db"
      },
      "outputs": [],
      "source": [
        "# !git clone https://github.com/facebookresearch/dinov2.git"
      ]
    },
    {
      "cell_type": "code",
      "execution_count": 37,
      "metadata": {
        "colab": {
          "base_uri": "https://localhost:8080/"
        },
        "id": "7o9cxyO5LSfr",
        "outputId": "12f6e4ca-b7ab-4ccf-87d5-8c1fd5fce1d5"
      },
      "outputs": [],
      "source": [
        "# %cd /home/kareem/Desktop/dinv2_Image_clustering/dinov2"
      ]
    },
    {
      "cell_type": "code",
      "execution_count": 38,
      "metadata": {
        "colab": {
          "base_uri": "https://localhost:8080/"
        },
        "id": "DXsmxlDiLUGj",
        "outputId": "2ab9efa9-35d9-49d4-c93a-4e41e567b801"
      },
      "outputs": [],
      "source": [
        "# pip install -r requirements.txt"
      ]
    },
    {
      "cell_type": "code",
      "execution_count": 39,
      "metadata": {
        "colab": {
          "base_uri": "https://localhost:8080/"
        },
        "id": "BHnnaeWvLUE0",
        "outputId": "aa974d93-570d-46cf-d767-7c578e4da0e8"
      },
      "outputs": [
        {
          "name": "stderr",
          "output_type": "stream",
          "text": [
            "Using cache found in /home/kareem/.cache/torch/hub/facebookresearch_dinov2_main\n"
          ]
        },
        {
          "name": "stdout",
          "output_type": "stream",
          "text": [
            "torch.Size([3, 224, 224])\n",
            "torch.Size([1, 3, 224, 224])\n"
          ]
        }
      ],
      "source": [
        "import torch\n",
        "import numpy as np \n",
        "import matplotlib.pyplot as plt \n",
        "from torch.utils.data import Dataset,DataLoader\n",
        "from torchvision import transforms,utils\n",
        "from torchvision.datasets import ImageFolder\n",
        "import warnings \n",
        "warnings.filterwarnings(\"ignore\")\n",
        "\n",
        "from PIL import Image\n",
        "import torchvision.transforms as T\n",
        "# import hubconf\n",
        "\n",
        "dino = torch.hub.load('facebookresearch/dinov2', 'dinov2_vitb14')\n",
        "#! Change the path to your query image \n",
        "test_img = Image.open('/home/kareem/Desktop/dinv2_Image_clustering/_.jpeg')\n",
        "\n",
        "image_transforms = T.Compose([\n",
        "    T.Resize(256, interpolation=T.InterpolationMode.BICUBIC),\n",
        "    T.CenterCrop(224),\n",
        "    T.ToTensor(),\n",
        "    T.Normalize(mean=(0.485, 0.456, 0.406), std=(0.229, 0.224, 0.225)),\n",
        "])\n",
        "\n",
        "\n",
        "\n",
        "t_img = image_transforms(test_img)\n",
        "print(t_img.shape)\n",
        "t_img = t_img.unsqueeze(0)\n",
        "print(t_img.shape)"
      ]
    },
    {
      "cell_type": "code",
      "execution_count": 40,
      "metadata": {
        "colab": {
          "base_uri": "https://localhost:8080/"
        },
        "id": "od7kermfOiG-",
        "outputId": "375b7060-2bca-413c-a190-bddc35a4d369"
      },
      "outputs": [
        {
          "data": {
            "text/plain": [
              "True"
            ]
          },
          "execution_count": 40,
          "metadata": {},
          "output_type": "execute_result"
        }
      ],
      "source": [
        "torch.cuda.is_available()"
      ]
    },
    {
      "cell_type": "code",
      "execution_count": 41,
      "metadata": {
        "id": "18V54Y_DLUCj"
      },
      "outputs": [],
      "source": [
        "dino = dino.cuda()\n",
        "t_img = t_img.cuda()\n",
        "dino_emb = dino(t_img)"
      ]
    },
    {
      "cell_type": "code",
      "execution_count": 42,
      "metadata": {
        "colab": {
          "base_uri": "https://localhost:8080/"
        },
        "id": "mV_OaycWLT_r",
        "outputId": "060509ea-6a34-4f6e-80f9-9e986475d26e"
      },
      "outputs": [
        {
          "data": {
            "text/plain": [
              "torch.Size([1, 768])"
            ]
          },
          "execution_count": 42,
          "metadata": {},
          "output_type": "execute_result"
        }
      ],
      "source": [
        "dino_emb.size()"
      ]
    },
    {
      "cell_type": "markdown",
      "metadata": {
        "id": "sseZUv2FTndk"
      },
      "source": [
        "# Search "
      ]
    },
    {
      "cell_type": "code",
      "execution_count": 43,
      "metadata": {},
      "outputs": [],
      "source": [
        "# !pip install faiss-gpu\n",
        "import os\n",
        "from PIL import Image\n",
        "import torch\n",
        "import torchvision.transforms as transforms\n",
        "import faiss"
      ]
    },
    {
      "cell_type": "code",
      "execution_count": 44,
      "metadata": {
        "id": "eJIHODE4LTrF"
      },
      "outputs": [],
      "source": [
        "device = torch.device('cuda' if torch.cuda.is_available() else 'cpu')\n",
        "\n",
        "query_image_path = \"/home/kareem/Desktop/dinv2_Image_clustering/dataset/train/21/image_06783.jpg\"\n",
        "query_image = Image.open(query_image_path)\n",
        "query_image.show()\n",
        "query_image = image_transforms(query_image).unsqueeze(0).to(device)\n",
        "query_image.size()\n",
        "dino.eval()\n",
        "with torch.no_grad():\n",
        "    query_features = dino(query_image).float()\n",
        "dataset_path = \"/home/kareem/Desktop/dinv2_Image_clustering/dataset/test\"\n",
        "dataset_images = []\n",
        "dataset_features = []\n",
        "for filename in os.listdir(dataset_path):\n",
        "    image_path = os.path.join(dataset_path,filename)\n",
        "    image = Image.open(image_path)\n",
        "    image = image_transforms(image).unsqueeze(0).to(device)\n",
        "    dataset_images.append(filename)\n",
        "    with torch.no_grad():\n",
        "        features = dino(image).float()\n",
        "    dataset_features.append(features)\n",
        "\n",
        "# Convert the feature vectors to a Faiss index\n",
        "index = faiss.IndexFlatL2(query_features.shape[1])\n",
        "dataset_features = torch.cat(dataset_features, dim=0).cpu().numpy()\n",
        "index.add(dataset_features)\n",
        "\n",
        "# Perform nearest neighbor search on the index\n",
        "k = 5  # number of neighbors to retrieve\n",
        "distances, indices = index.search(query_features.cpu().numpy(), k)\n",
        "query_image\n",
        "for i in range(k):\n",
        "    image_path = os.path.join(dataset_path, dataset_images[indices[0][i]])\n",
        "    image = Image.open(image_path)\n",
        "    image.show()"
      ]
    },
    {
      "cell_type": "code",
      "execution_count": null,
      "metadata": {
        "id": "YFQy3cP5LToM"
      },
      "outputs": [],
      "source": []
    },
    {
      "cell_type": "code",
      "execution_count": null,
      "metadata": {
        "id": "uYyejP38LTls"
      },
      "outputs": [],
      "source": []
    },
    {
      "cell_type": "code",
      "execution_count": null,
      "metadata": {},
      "outputs": [],
      "source": []
    }
  ],
  "metadata": {
    "accelerator": "GPU",
    "colab": {
      "gpuType": "T4",
      "provenance": []
    },
    "gpuClass": "standard",
    "kernelspec": {
      "display_name": "Python 3",
      "name": "python3"
    },
    "language_info": {
      "codemirror_mode": {
        "name": "ipython",
        "version": 3
      },
      "file_extension": ".py",
      "mimetype": "text/x-python",
      "name": "python",
      "nbconvert_exporter": "python",
      "pygments_lexer": "ipython3",
      "version": "3.9.16"
    }
  },
  "nbformat": 4,
  "nbformat_minor": 0
}
